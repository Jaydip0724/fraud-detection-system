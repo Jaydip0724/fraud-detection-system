# %% [markdown]

# %%
import pandas as pd
import numpy as np
import matplotlib.pyplot as plt
import seaborn as sns

# %%
# Load the data
try:
    df = pd.read_csv('data/test_creditcard_2023.csv')
except FileNotFoundError:
    print("Error: 'test_creditcard_2023.csv' not found.  Make sure the file is in the 'data/' directory.")
    exit()

# %%
# Display the first few rows of the DataFrame
print("First 5 rows of the data:")
print(df.head())

# %%
# Data Cleaning and Preprocessing
print("\nData Info:")
print(df.info())

# %%
# Handle missing values (if any) -  Let's assume there are some missing values for now.
# Replace with appropriate strategy based on the actual data.
df = df.dropna() # Simple example - remove rows with any missing values.  More sophisticated handling might be needed.

# %%
# Convert categorical features to numerical (if needed)
# Example:  If 'type' is a categorical feature
# df['type'] = df['type'].astype('category').cat.codes

# %%
# Data Visualization - Histograms
plt.figure(figsize=(12, 6))
sns.histplot(df['v1'], kde=True)
plt.title('Distribution of V1')
plt.xlabel('V1')
plt.ylabel('Frequency')
plt.show()

plt.figure(figsize=(12, 6))
sns.histplot(df['v2'], kde=True)
plt.title('Distribution of V2')
plt.xlabel('V2')
plt.ylabel('Frequency')
plt.show()

# Add more histograms for other numerical features (v3, v4, etc.)

# %%
# Data Visualization - Scatter Plots
plt.figure(figsize=(8, 6))
sns.scatterplot(x='v1', y='v2', data=df)
plt.title('Scatter Plot of V1 vs V2')
plt.xlabel('V1')
plt.ylabel('V2')
plt.show()

# Add scatter plots for other feature pairs

# %%
# Data Visualization - Box Plots
plt.figure(figsize=(12, 6))
sns.boxplot(x='class', y='v1', data=df)
plt.title('Box Plot of V1 by Class')
plt.xlabel('Class')
plt.ylabel('V1')
plt.show()

# Add box plots for other numerical features and the 'class' variable

# %%
# Correlation Analysis
correlation_matrix = df.corr()
plt.figure(figsize=(8, 6))
sns.heatmap(correlation_matrix, annot=True, cmap='coolwarm')
plt.title('Correlation Matrix')
plt.show()

# %%
# Further Analysis (Example:  Fraud Detection - if 'class' is 1)
# This is a placeholder - adapt to the actual data and problem.
fraud_transactions = df[df['class'] == 1]
print("\nNumber of Fraud Transactions:", len(fraud_transactions))

# %%
# Summary Statistics
print("\nSummary Statistics:")
print(df.describe())

# %%
# End of EDA
