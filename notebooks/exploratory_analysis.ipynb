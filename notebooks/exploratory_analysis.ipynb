{
  "nbformat": 4,
  "nbformat_minor": 0,
  "metadata": {
    "colab": {
      "provenance": []
    },
    "kernelspec": {
      "name": "python3",
      "display_name": "Python 3"
    },
    "language_info": {
      "name": "python"
    }
  },
  "cells": [
    {
      "cell_type": "code",
      "source": [
        "import pandas as pd\n",
        "import numpy as np\n",
        "import matplotlib.pyplot as plt\n",
        "import seaborn as sns"
      ],
      "metadata": {
        "id": "eTzPkA8FHjyD"
      },
      "execution_count": null,
      "outputs": []
    },
    {
      "cell_type": "code",
      "source": [
        "# Load the data\n",
        "try:\n",
        "    df = pd.read_csv('data/test_creditcard_2023.csv')\n",
        "except FileNotFoundError:\n",
        "    print(\"Error: 'test_creditcard_2023.csv' not found.  Make sure the file is in the 'data/' directory.\")\n",
        "    exit()"
      ],
      "metadata": {
        "id": "w4cj9QMKHkYa"
      },
      "execution_count": null,
      "outputs": []
    },
    {
      "cell_type": "code",
      "source": [
        "# Display the first few rows of the DataFrame\n",
        "print(\"First 5 rows of the data:\")\n",
        "print(df.head())"
      ],
      "metadata": {
        "id": "ZGWS-VZjHriX"
      },
      "execution_count": null,
      "outputs": []
    },
    {
      "cell_type": "code",
      "source": [
        "# Data Cleaning and Preprocessing\n",
        "print(\"\\nData Info:\")\n",
        "print(df.info())"
      ],
      "metadata": {
        "id": "yTwKCSMyHuSr"
      },
      "execution_count": null,
      "outputs": []
    },
    {
      "cell_type": "code",
      "source": [
        "# Handle missing values (if any)\n",
        "df = df.dropna()\n"
      ],
      "metadata": {
        "id": "IZZfY4jUH1LE"
      },
      "execution_count": null,
      "outputs": []
    },
    {
      "cell_type": "code",
      "source": [
        "# Data Visualization - Histograms\n",
        "plt.figure(figsize=(12, 6))\n",
        "sns.histplot(df['v1'], kde=True)\n",
        "plt.title('Distribution of V1')\n",
        "plt.xlabel('V1')\n",
        "plt.ylabel('Frequency')\n",
        "plt.show()\n",
        "\n",
        "plt.figure(figsize=(12, 6))\n",
        "sns.histplot(df['v2'], kde=True)\n",
        "plt.title('Distribution of V2')\n",
        "plt.xlabel('V2')\n",
        "plt.ylabel('Frequency')\n",
        "plt.show()"
      ],
      "metadata": {
        "id": "D5nYdTZEH-KM"
      },
      "execution_count": null,
      "outputs": []
    },
    {
      "cell_type": "code",
      "source": [
        "# Data Visualization - Scatter Plots\n",
        "plt.figure(figsize=(8, 6))\n",
        "sns.scatterplot(x='v1', y='v2', data=df)\n",
        "plt.title('Scatter Plot of V1 vs V2')\n",
        "plt.xlabel('V1')\n",
        "plt.ylabel('V2')\n",
        "plt.show()"
      ],
      "metadata": {
        "id": "EMtMOB1EICfm"
      },
      "execution_count": null,
      "outputs": []
    },
    {
      "cell_type": "code",
      "source": [
        "# Data Visualization - Box Plots\n",
        "plt.figure(figsize=(12, 6))\n",
        "sns.boxplot(x='class', y='v1', data=df)\n",
        "plt.title('Box Plot of V1 by Class')\n",
        "plt.xlabel('Class')\n",
        "plt.ylabel('V1')\n",
        "plt.show()"
      ],
      "metadata": {
        "id": "tgClUx37IIy-"
      },
      "execution_count": null,
      "outputs": []
    },
    {
      "cell_type": "code",
      "source": [
        "# Correlation Analysis\n",
        "correlation_matrix = df.corr()\n",
        "plt.figure(figsize=(8, 6))\n",
        "sns.heatmap(correlation_matrix, annot=True, cmap='coolwarm')\n",
        "plt.title('Correlation Matrix')\n",
        "plt.show()"
      ],
      "metadata": {
        "id": "iiiBPHn8INQW"
      },
      "execution_count": null,
      "outputs": []
    },
    {
      "cell_type": "code",
      "source": [
        "# Further Analysis (Example:  Fraud Detection - if 'class' is 1)\n",
        "# This is a placeholder - adapt to the actual data and problem.\n",
        "fraud_transactions = df[df['class'] == 1]\n",
        "print(\"\\nNumber of Fraud Transactions:\", len(fraud_transactions))"
      ],
      "metadata": {
        "id": "pyvt7SHOIOIm"
      },
      "execution_count": null,
      "outputs": []
    },
    {
      "cell_type": "code",
      "source": [
        "# Summary Statistics\n",
        "print(\"\\nSummary Statistics:\")\n",
        "print(df.describe())"
      ],
      "metadata": {
        "id": "cZ9XRhkGIQpQ"
      },
      "execution_count": null,
      "outputs": []
    }
  ]
}