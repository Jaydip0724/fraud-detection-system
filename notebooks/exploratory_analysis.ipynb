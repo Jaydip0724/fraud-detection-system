```json
{
 "cells": [
  {
   "cell_type": "markdown",
   "id": "title",
   "metadata": {},
   "source": [
    "# 📊 Exploratory Data Analysis – Credit‑Card Transactions\n",
    "\n",
    "Goal: understand basic structure and fraud patterns in the Kaggle credit‑card dataset before training any model."
   ]
  },
  {
   "cell_type": "code",
   "execution_count": null,
   "id": "import",
   "metadata": {},
   "outputs": [],
   "source": [
    "import numpy as np\n",
    "import pandas as pd\n",
    "import seaborn as sns\n",
    "import matplotlib.pyplot as plt\n",
    "\n",
    "sns.set(style=\"whitegrid\", palette=\"muted\", context=\"notebook\")"
   ]
  },
  {
   "cell_type": "markdown",
   "id": "load",
   "metadata": {},
   "source": [
    "## 1. Load Dataset"
   ]
  },
  {
   "cell_type": "code",
   "execution_count": null,
   "id": "load-code",
   "metadata": {},
   "outputs": [],
   "source": [
    "PATH = '../data/test_creditcard_2023.csv'\n",
    "df = pd.read_csv(PATH)\n",
    "df.columns = df.columns.str.lower()\n",
    "df.head()"
   ]
  },
  {
   "cell_type": "markdown",
   "id": "shape",
   "metadata": {},
   "source": [
    "### Shape & Missing Values"
   ]
  },
  {
   "cell_type": "code",
   "execution_count": null,
   "id": "shape-code",
   "metadata": {},
   "outputs": [],
   "source": [
    "display(df.shape)\n",
    "df.isna().mean().sort_values(ascending=False).head()"
   ]
  },
  {
   "cell_type": "markdown",
   "id": "classdist",
   "metadata": {},
   "source": [
    "## 2. Class Imbalance"
   ]
  },
  {
   "cell_type": "code",
   "execution_count": null,
   "id": "classdist-code",
   "metadata": {},
   "outputs": [],
   "source": [
    "ax = df['class'].value_counts(normalize=True).mul(100).plot.bar(color=['#3498db', '#e74c3c'])\n",
    "ax.set(title='Fraud vs Legit – % of Total', ylabel='%');\n",
    "for p in ax.patches:\n",
    "    ax.annotate(f\"{p.get_height():.2f}%\", (p.get_x() + p.get_width() / 2., p.get_height()), ha='center', va='bottom')"
   ]
  },
  {
   "cell_type": "markdown",
   "id": "amount",
   "metadata": {},
   "source": [
    "## 3. Amount Distribution"
   ]
  },
  {
   "cell_type": "code",
   "execution_count": null,
   "id": "amount-code",
   "metadata": {},
   "outputs": [],
   "source": [
    "plt.figure(figsize=(10,4))\n",
    "sns.kdeplot(data=df, x='amount', hue='class', log_scale=True, common_norm=False)\n",
    "plt.title('Histogram of Transaction Amount (log‑scale)');"
   ]
  },
  {
   "cell_type": "markdown",
   "id": "heatmap",
   "metadata": {},
   "source": [
    "## 4. Correlation Heatmap – Top 10"
   ]
  },
  {
   "cell_type": "code",
   "execution_count": null,
   "id": "heatmap-code",
   "metadata": {},
   "outputs": [],
   "source": [
    "corr = df.corr()['class'].abs().sort_values(ascending=False).head(11)\n",
    "top_cols = corr.index[1:]\n",
    "plt.figure(figsize=(8,6))\n",
    "sns.heatmap(df[top_cols].corr(), annot=False, cmap='coolwarm', center=0)\n",
    "plt.title('Correlation among top 10 features correlated with fraud');"
   ]
  },
  {
   "cell_type": "markdown",
   "id": "pairplot",
   "metadata": {},
   "source": [
    "## 5. Pairplot of Most Influential Features"
   ]
  },
  {
   "cell_type": "code",
   "execution_count": null,
   "id": "pairplot-code",
   "metadata": {},
   "outputs": [],
   "source": [
    "sns.pairplot(df.sample(1000), vars=top_cols[:4], hue='class', plot_kws={'alpha':0.6})"
   ]
  },
  {
   "cell_type": "markdown",
   "id": "conclusion",
   "metadata": {},
   "source": [
    "## 6. Key Takeaways\n",
    "\n",
    "* Severe class imbalance (~0.2 % fraud). Precision‑oriented metrics will be critical.\n",
    "* `amount` has a heavier tail for fraud transactions (fraud skewed to larger values).\n",
    "* Features V14, V17, V12 show the strongest correlation with the target.\n",
    "* No missing values → simple preprocessing, mostly scaling.\n",
    "\n",
    "_Next step: build a model that balances high precision with acceptable recall._"
   ]
  }
 ],
 "metadata": {
  "kernelspec": {
   "display_name": "Python 3",
   "language": "python",
   "name": "python3"
  },
  "language_info": {
   "name": "python",
   "version": "3.9"
  }
 },
 "nbformat": 4,
 "nbformat_minor": 5
}
```
